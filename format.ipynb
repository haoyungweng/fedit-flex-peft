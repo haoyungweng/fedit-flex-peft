{
 "cells": [
  {
   "cell_type": "code",
   "execution_count": 7,
   "metadata": {},
   "outputs": [
    {
     "ename": "FileNotFoundError",
     "evalue": "[Errno 2] No such file or directory: 'evaluations_new_new/none-3B/20/global_output_metrics.json'",
     "output_type": "error",
     "traceback": [
      "\u001b[0;31m---------------------------------------------------------------------------\u001b[0m",
      "\u001b[0;31mFileNotFoundError\u001b[0m                         Traceback (most recent call last)",
      "Cell \u001b[0;32mIn[7], line 8\u001b[0m\n\u001b[1;32m      5\u001b[0m results_file \u001b[38;5;241m=\u001b[39m \u001b[38;5;124m\"\u001b[39m\u001b[38;5;124mevaluations_new_new/none-3B/20/global_output_metrics.json\u001b[39m\u001b[38;5;124m\"\u001b[39m  \u001b[38;5;66;03m# Replace with your actual path\u001b[39;00m\n\u001b[1;32m      7\u001b[0m \u001b[38;5;66;03m# Load the JSON results file\u001b[39;00m\n\u001b[0;32m----> 8\u001b[0m \u001b[38;5;28;01mwith\u001b[39;00m \u001b[38;5;28mopen\u001b[39m(results_file, \u001b[38;5;124m'\u001b[39m\u001b[38;5;124mr\u001b[39m\u001b[38;5;124m'\u001b[39m) \u001b[38;5;28;01mas\u001b[39;00m f:\n\u001b[1;32m      9\u001b[0m     results \u001b[38;5;241m=\u001b[39m json\u001b[38;5;241m.\u001b[39mload(f)\n\u001b[1;32m     11\u001b[0m \u001b[38;5;66;03m# Define the primary metric for each task\u001b[39;00m\n",
      "File \u001b[0;32m~/miniconda3/envs/HFL/lib/python3.12/site-packages/IPython/core/interactiveshell.py:324\u001b[0m, in \u001b[0;36m_modified_open\u001b[0;34m(file, *args, **kwargs)\u001b[0m\n\u001b[1;32m    317\u001b[0m \u001b[38;5;28;01mif\u001b[39;00m file \u001b[38;5;129;01min\u001b[39;00m {\u001b[38;5;241m0\u001b[39m, \u001b[38;5;241m1\u001b[39m, \u001b[38;5;241m2\u001b[39m}:\n\u001b[1;32m    318\u001b[0m     \u001b[38;5;28;01mraise\u001b[39;00m \u001b[38;5;167;01mValueError\u001b[39;00m(\n\u001b[1;32m    319\u001b[0m         \u001b[38;5;124mf\u001b[39m\u001b[38;5;124m\"\u001b[39m\u001b[38;5;124mIPython won\u001b[39m\u001b[38;5;124m'\u001b[39m\u001b[38;5;124mt let you open fd=\u001b[39m\u001b[38;5;132;01m{\u001b[39;00mfile\u001b[38;5;132;01m}\u001b[39;00m\u001b[38;5;124m by default \u001b[39m\u001b[38;5;124m\"\u001b[39m\n\u001b[1;32m    320\u001b[0m         \u001b[38;5;124m\"\u001b[39m\u001b[38;5;124mas it is likely to crash IPython. If you know what you are doing, \u001b[39m\u001b[38;5;124m\"\u001b[39m\n\u001b[1;32m    321\u001b[0m         \u001b[38;5;124m\"\u001b[39m\u001b[38;5;124myou can use builtins\u001b[39m\u001b[38;5;124m'\u001b[39m\u001b[38;5;124m open.\u001b[39m\u001b[38;5;124m\"\u001b[39m\n\u001b[1;32m    322\u001b[0m     )\n\u001b[0;32m--> 324\u001b[0m \u001b[38;5;28;01mreturn\u001b[39;00m io_open(file, \u001b[38;5;241m*\u001b[39margs, \u001b[38;5;241m*\u001b[39m\u001b[38;5;241m*\u001b[39mkwargs)\n",
      "\u001b[0;31mFileNotFoundError\u001b[0m: [Errno 2] No such file or directory: 'evaluations_new_new/none-3B/20/global_output_metrics.json'"
     ]
    }
   ],
   "source": [
    "import json\n",
    "import numpy as np\n",
    "\n",
    "# Path to the evaluation results JSON file\n",
    "results_file = \"evaluations_new_new/none-3B/20/global_output_metrics.json\"  # Replace with your actual path\n",
    "\n",
    "# Load the JSON results file\n",
    "with open(results_file, 'r') as f:\n",
    "    results = json.load(f)\n",
    "\n",
    "# Define the primary metric for each task\n",
    "primary_metrics = {\n",
    "    \"coreference\": \"f1_macro\",\n",
    "    \"entailment\": \"accuracy\",\n",
    "    \"linguistic_acceptability\": \"mcc\",\n",
    "    \"paraphrase\": \"f1_score\",\n",
    "    \"question_classification\": \"accuracy\",\n",
    "    \"structure_to_text\": \"rougeLsum\",\n",
    "    \"text_formatting\": \"rougeL\",\n",
    "    \"word_disambiguation\": \"f1_score\"\n",
    "}\n",
    "\n",
    "# Metrics to be multiplied by 100 for percentage display\n",
    "percent_metrics = {\"accuracy\", \"f1_score\", \"f1_macro\", \"rougeL\", \"rougeLsum\"}\n",
    "\n",
    "# Extract primary metric for each task\n",
    "task_metrics = {}\n",
    "for task, metric_name in primary_metrics.items():\n",
    "    if task in results and metric_name in results[task]:\n",
    "        value = results[task][metric_name]\n",
    "        if metric_name in percent_metrics:\n",
    "            task_metrics[task] = value * 100\n",
    "        else:\n",
    "            task_metrics[task] = value\n",
    "    else:\n",
    "        task_metrics[task] = np.nan\n",
    "\n",
    "# Define the order for the LaTeX table\n",
    "latex_order = [\"coreference\", \"entailment\", \"linguistic_acceptability\", \"paraphrase\", \n",
    "               \"question_classification\", \"structure_to_text\", \"text_formatting\", \"word_disambiguation\"]\n",
    "\n",
    "# Format the metrics as a LaTeX table row\n",
    "latex_row = \" & \".join([\n",
    "    f\"{task_metrics.get(task, np.nan):.2f}\" for task in latex_order\n",
    "]) + \" \\\\\\\\\"\n",
    "\n",
    "# Print the LaTeX row\n",
    "print(latex_row)"
   ]
  }
 ],
 "metadata": {
  "kernelspec": {
   "display_name": "HFL",
   "language": "python",
   "name": "python3"
  },
  "language_info": {
   "codemirror_mode": {
    "name": "ipython",
    "version": 3
   },
   "file_extension": ".py",
   "mimetype": "text/x-python",
   "name": "python",
   "nbconvert_exporter": "python",
   "pygments_lexer": "ipython3",
   "version": "3.12.9"
  }
 },
 "nbformat": 4,
 "nbformat_minor": 2
}
